{
 "cells": [
  {
   "cell_type": "markdown",
   "metadata": {},
   "source": [
    "# Data Visualization - Individual Exercise"
   ]
  },
  {
   "cell_type": "code",
   "execution_count": null,
   "metadata": {},
   "outputs": [],
   "source": [
    "import pandas as pd\n",
    "import numpy as np\n",
    "import matplotlib.pyplot as plt\n",
    "import json\n",
    "\n",
    "pd.set_option('display.max_columns', 1000)\n",
    "pd.set_option('display.max_rows', None)\n",
    "pd.set_option('display.float_format', '{:,.4f}'.format)"
   ]
  },
  {
   "cell_type": "code",
   "execution_count": null,
   "metadata": {
    "scrolled": true
   },
   "outputs": [],
   "source": [
    "df = pd.read_csv(\"data/PH-HRIR-merged.csv\")"
   ]
  },
  {
   "cell_type": "code",
   "execution_count": null,
   "metadata": {
    "scrolled": true
   },
   "outputs": [],
   "source": [
    "with open('data/PHHR71FL-data-dictionary.json', 'r') as file:\n",
    "    hr_col_dict = json.load(file)\n",
    "\n",
    "with open('data/PHIR71FL-data-dictionary.json', 'r') as file:\n",
    "    ir_col_dict = json.load(file)\n",
    "    \n",
    "for col in df.columns:\n",
    "    try:\n",
    "        print(f'{col}: {hr_col_dict[col]}')\n",
    "    except:\n",
    "        print(f'{col}: {ir_col_dict[col]}')"
   ]
  },
  {
   "cell_type": "markdown",
   "metadata": {},
   "source": [
    "**Let's practice creating plots! Try replicating the following images:**"
   ]
  },
  {
   "cell_type": "markdown",
   "metadata": {},
   "source": [
    "1. Common reasons of not using contraceptive methods from highest to lowest value\n",
    "<img src='fig/Viz1.png'>"
   ]
  },
  {
   "cell_type": "markdown",
   "metadata": {},
   "source": [
    "*Hint: figsize=10,6; axis labels fontsize=12; title fontsize=16*"
   ]
  },
  {
   "cell_type": "code",
   "execution_count": null,
   "metadata": {},
   "outputs": [],
   "source": []
  },
  {
   "cell_type": "code",
   "execution_count": null,
   "metadata": {},
   "outputs": [],
   "source": []
  },
  {
   "cell_type": "markdown",
   "metadata": {},
   "source": [
    "2. Most common LGU health programs (aware of) for NCR, Central Visayas, Davao, and Bicol. The dataset has been prepared for you."
   ]
  },
  {
   "cell_type": "markdown",
   "metadata": {},
   "source": [
    "<img src='fig/Viz2.png'>"
   ]
  },
  {
   "cell_type": "markdown",
   "metadata": {},
   "source": [
    "*Hint: figsize=8,8; title fontsize=16*"
   ]
  },
  {
   "cell_type": "code",
   "execution_count": null,
   "metadata": {
    "scrolled": true
   },
   "outputs": [],
   "source": [
    "regions = [\"National Capital\", \"Central Visayas\", \"Davao\", \"Bicol\"]\n",
    "region_filtered = df[df['HV024'].isin(regions)].drop_duplicates(subset=['HV001','HV002'], keep='first')\n",
    "sh301_cols = [x for x in region_filtered.columns if 'SH301' in x]\n",
    "\n",
    "for col in sh301_cols:\n",
    "    region_filtered[col] = region_filtered[col].replace({'Yes':1, 'No': 0})\n",
    "\n",
    "lgu_prog = (region_filtered.groupby([\"HV024\"], as_index = False)[sh301_cols].sum()\n",
    "                .melt(id_vars=[\"HV024\"]).sort_values(by = ['HV024','value'], ascending = False))\n",
    "\n",
    "display(lgu_prog)"
   ]
  },
  {
   "cell_type": "code",
   "execution_count": null,
   "metadata": {},
   "outputs": [],
   "source": [
    "lgu_prog_ = pd.DataFrame()\n",
    "\n",
    "for region in lgu_prog['HV024'].unique():\n",
    "    temp = lgu_prog[lgu_prog['HV024']==region][0:5]\n",
    "    lgu_prog_ = pd.concat([lgu_prog_, temp])\n",
    "    \n",
    "lgu_prog_ = lgu_prog_.set_index('HV024')\n",
    "\n",
    "display(lgu_prog_)"
   ]
  },
  {
   "cell_type": "code",
   "execution_count": null,
   "metadata": {},
   "outputs": [],
   "source": [
    "lgu_prog_['program'] = lgu_prog_['variable'].apply(lambda x: hr_col_dict[x][40:])\n",
    "display(lgu_prog_)"
   ]
  },
  {
   "cell_type": "code",
   "execution_count": null,
   "metadata": {},
   "outputs": [],
   "source": []
  }
 ],
 "metadata": {
  "kernelspec": {
   "display_name": "Python 3",
   "language": "python",
   "name": "python3"
  },
  "language_info": {
   "codemirror_mode": {
    "name": "ipython",
    "version": 3
   },
   "file_extension": ".py",
   "mimetype": "text/x-python",
   "name": "python",
   "nbconvert_exporter": "python",
   "pygments_lexer": "ipython3",
   "version": "3.8.3"
  }
 },
 "nbformat": 4,
 "nbformat_minor": 2
}
